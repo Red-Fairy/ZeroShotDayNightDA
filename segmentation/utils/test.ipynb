{
 "cells": [
  {
   "cell_type": "code",
   "execution_count": 2,
   "metadata": {},
   "outputs": [],
   "source": [
    "import csv"
   ]
  },
  {
   "cell_type": "code",
   "execution_count": 10,
   "metadata": {},
   "outputs": [
    {
     "name": "stdout",
     "output_type": "stream",
     "text": [
      "['train/night/GOPR0351/GOPR0351_frame_000001', 'train/day/GOPR0345/GOPR0345_frame_000081']\n",
      "['train/night/GOPR0351/GOPR0351_frame_000002', 'train/day/GOPR0345/GOPR0345_frame_000081']\n"
     ]
    }
   ],
   "source": [
    "with open('/mnt/netdisk/Datasets/078-DarkZurich/Dark_Zurich_train_anon/corresp/train/night/GOPR0351/GOPR0351_ref_day.csv', 'r', encoding=\"UTF-8\") as fr:\n",
    "    reader = csv.reader(fr)\n",
    "    print(next(reader))\n",
    "    print(next(reader))\n",
    "    fr.close()"
   ]
  },
  {
   "cell_type": "code",
   "execution_count": 13,
   "metadata": {},
   "outputs": [],
   "source": [
    "from dataset import make_dataset"
   ]
  },
  {
   "cell_type": "code",
   "execution_count": 18,
   "metadata": {},
   "outputs": [
    {
     "name": "stdout",
     "output_type": "stream",
     "text": [
      "2416\n",
      "3041\n"
     ]
    }
   ],
   "source": [
    "paths_night = sorted(make_dataset('/mnt/netdisk/Datasets/078-DarkZurich/Dark_Zurich_train_anon/rgb_anon/train/night'))\n",
    "paths_day = sorted(make_dataset('/mnt/netdisk/Datasets/078-DarkZurich/Dark_Zurich_train_anon/rgb_anon/train/day'))"
   ]
  },
  {
   "cell_type": "code",
   "execution_count": 19,
   "metadata": {},
   "outputs": [
    {
     "name": "stdout",
     "output_type": "stream",
     "text": [
      "/mnt/netdisk/Datasets/078-DarkZurich/Dark_Zurich_train_anon/rgb_anon/train/night/GOPR0351/GOPR0351_frame_000001_rgb_anon.png /mnt/netdisk/Datasets/078-DarkZurich/Dark_Zurich_train_anon/rgb_anon/train/day/GOPR0345/GOPR0345_frame_000001_rgb_anon.png\n"
     ]
    }
   ],
   "source": [
    "print(paths_night[0],paths_day[0])"
   ]
  },
  {
   "cell_type": "code",
   "execution_count": 1,
   "metadata": {},
   "outputs": [
    {
     "name": "stderr",
     "output_type": "stream",
     "text": [
      "/home/luord/anaconda3/envs/torch2/lib/python3.9/site-packages/tqdm/auto.py:22: TqdmWarning: IProgress not found. Please update jupyter and ipywidgets. See https://ipywidgets.readthedocs.io/en/stable/user_install.html\n",
      "  from .autonotebook import tqdm as notebook_tqdm\n"
     ]
    }
   ],
   "source": [
    "from dataset import ZurichPairedDataset\n",
    "import torch\n",
    "from helpers import get_train_trans\n",
    "from torchvision import transforms"
   ]
  },
  {
   "cell_type": "code",
   "execution_count": 2,
   "metadata": {},
   "outputs": [],
   "source": [
    "transforms_train = transforms.Compose([transforms.RandomResizedCrop((384,768),(0.5,1.0)),\n",
    "                            transforms.RandomHorizontalFlip(p=0.5),\n",
    "                            transforms.ColorJitter(0.3,0.3,0.3,0.3),\n",
    "                            # transforms.RandomRotation(args.rr, resample=3),\n",
    "                            transforms.ToTensor(),\n",
    "                            transforms.Normalize((0.485, 0.456, 0.406),(0.229, 0.224, 0.225))])"
   ]
  },
  {
   "cell_type": "code",
   "execution_count": 4,
   "metadata": {},
   "outputs": [
    {
     "name": "stdout",
     "output_type": "stream",
     "text": [
      "2416\n",
      "2416\n",
      "torch.Size([30, 3, 384, 768]) torch.Size([30, 3, 384, 768]) 0\n"
     ]
    },
    {
     "ename": "KeyboardInterrupt",
     "evalue": "",
     "output_type": "error",
     "traceback": [
      "\u001b[0;31m---------------------------------------------------------------------------\u001b[0m",
      "\u001b[0;31mKeyboardInterrupt\u001b[0m                         Traceback (most recent call last)",
      "\u001b[1;32m/home/luord/cic/experiments/3_segmentation/utils/test.ipynb Cell 8'\u001b[0m in \u001b[0;36m<cell line: 4>\u001b[0;34m()\u001b[0m\n\u001b[1;32m      <a href='vscode-notebook-cell://ssh-remote%2B59.108.48.24/home/luord/cic/experiments/3_segmentation/utils/test.ipynb#ch0000006vscode-remote?line=1'>2</a>\u001b[0m dataloader \u001b[39m=\u001b[39m torch\u001b[39m.\u001b[39mutils\u001b[39m.\u001b[39mdata\u001b[39m.\u001b[39mDataLoader(dataset, batch_size\u001b[39m=\u001b[39m\u001b[39m30\u001b[39m, shuffle\u001b[39m=\u001b[39m\u001b[39mTrue\u001b[39;00m, num_workers\u001b[39m=\u001b[39m\u001b[39m0\u001b[39m)\n\u001b[1;32m      <a href='vscode-notebook-cell://ssh-remote%2B59.108.48.24/home/luord/cic/experiments/3_segmentation/utils/test.ipynb#ch0000006vscode-remote?line=2'>3</a>\u001b[0m i\u001b[39m=\u001b[39m\u001b[39m0\u001b[39m\n\u001b[0;32m----> <a href='vscode-notebook-cell://ssh-remote%2B59.108.48.24/home/luord/cic/experiments/3_segmentation/utils/test.ipynb#ch0000006vscode-remote?line=3'>4</a>\u001b[0m \u001b[39mfor\u001b[39;00m data \u001b[39min\u001b[39;00m dataloader:\n\u001b[1;32m      <a href='vscode-notebook-cell://ssh-remote%2B59.108.48.24/home/luord/cic/experiments/3_segmentation/utils/test.ipynb#ch0000006vscode-remote?line=4'>5</a>\u001b[0m     \u001b[39mprint\u001b[39m(data[\u001b[39m0\u001b[39m]\u001b[39m.\u001b[39mshape,data[\u001b[39m1\u001b[39m]\u001b[39m.\u001b[39mshape,i)\n\u001b[1;32m      <a href='vscode-notebook-cell://ssh-remote%2B59.108.48.24/home/luord/cic/experiments/3_segmentation/utils/test.ipynb#ch0000006vscode-remote?line=5'>6</a>\u001b[0m     i\u001b[39m+\u001b[39m\u001b[39m=\u001b[39m\u001b[39m1\u001b[39m\n",
      "File \u001b[0;32m~/anaconda3/envs/torch2/lib/python3.9/site-packages/torch/utils/data/dataloader.py:530\u001b[0m, in \u001b[0;36m_BaseDataLoaderIter.__next__\u001b[0;34m(self)\u001b[0m\n\u001b[1;32m    528\u001b[0m \u001b[39mif\u001b[39;00m \u001b[39mself\u001b[39m\u001b[39m.\u001b[39m_sampler_iter \u001b[39mis\u001b[39;00m \u001b[39mNone\u001b[39;00m:\n\u001b[1;32m    529\u001b[0m     \u001b[39mself\u001b[39m\u001b[39m.\u001b[39m_reset()\n\u001b[0;32m--> 530\u001b[0m data \u001b[39m=\u001b[39m \u001b[39mself\u001b[39;49m\u001b[39m.\u001b[39;49m_next_data()\n\u001b[1;32m    531\u001b[0m \u001b[39mself\u001b[39m\u001b[39m.\u001b[39m_num_yielded \u001b[39m+\u001b[39m\u001b[39m=\u001b[39m \u001b[39m1\u001b[39m\n\u001b[1;32m    532\u001b[0m \u001b[39mif\u001b[39;00m \u001b[39mself\u001b[39m\u001b[39m.\u001b[39m_dataset_kind \u001b[39m==\u001b[39m _DatasetKind\u001b[39m.\u001b[39mIterable \u001b[39mand\u001b[39;00m \\\n\u001b[1;32m    533\u001b[0m         \u001b[39mself\u001b[39m\u001b[39m.\u001b[39m_IterableDataset_len_called \u001b[39mis\u001b[39;00m \u001b[39mnot\u001b[39;00m \u001b[39mNone\u001b[39;00m \u001b[39mand\u001b[39;00m \\\n\u001b[1;32m    534\u001b[0m         \u001b[39mself\u001b[39m\u001b[39m.\u001b[39m_num_yielded \u001b[39m>\u001b[39m \u001b[39mself\u001b[39m\u001b[39m.\u001b[39m_IterableDataset_len_called:\n",
      "File \u001b[0;32m~/anaconda3/envs/torch2/lib/python3.9/site-packages/torch/utils/data/dataloader.py:570\u001b[0m, in \u001b[0;36m_SingleProcessDataLoaderIter._next_data\u001b[0;34m(self)\u001b[0m\n\u001b[1;32m    568\u001b[0m \u001b[39mdef\u001b[39;00m \u001b[39m_next_data\u001b[39m(\u001b[39mself\u001b[39m):\n\u001b[1;32m    569\u001b[0m     index \u001b[39m=\u001b[39m \u001b[39mself\u001b[39m\u001b[39m.\u001b[39m_next_index()  \u001b[39m# may raise StopIteration\u001b[39;00m\n\u001b[0;32m--> 570\u001b[0m     data \u001b[39m=\u001b[39m \u001b[39mself\u001b[39;49m\u001b[39m.\u001b[39;49m_dataset_fetcher\u001b[39m.\u001b[39;49mfetch(index)  \u001b[39m# may raise StopIteration\u001b[39;00m\n\u001b[1;32m    571\u001b[0m     \u001b[39mif\u001b[39;00m \u001b[39mself\u001b[39m\u001b[39m.\u001b[39m_pin_memory:\n\u001b[1;32m    572\u001b[0m         data \u001b[39m=\u001b[39m _utils\u001b[39m.\u001b[39mpin_memory\u001b[39m.\u001b[39mpin_memory(data)\n",
      "File \u001b[0;32m~/anaconda3/envs/torch2/lib/python3.9/site-packages/torch/utils/data/_utils/fetch.py:49\u001b[0m, in \u001b[0;36m_MapDatasetFetcher.fetch\u001b[0;34m(self, possibly_batched_index)\u001b[0m\n\u001b[1;32m     47\u001b[0m \u001b[39mdef\u001b[39;00m \u001b[39mfetch\u001b[39m(\u001b[39mself\u001b[39m, possibly_batched_index):\n\u001b[1;32m     48\u001b[0m     \u001b[39mif\u001b[39;00m \u001b[39mself\u001b[39m\u001b[39m.\u001b[39mauto_collation:\n\u001b[0;32m---> 49\u001b[0m         data \u001b[39m=\u001b[39m [\u001b[39mself\u001b[39m\u001b[39m.\u001b[39mdataset[idx] \u001b[39mfor\u001b[39;00m idx \u001b[39min\u001b[39;00m possibly_batched_index]\n\u001b[1;32m     50\u001b[0m     \u001b[39melse\u001b[39;00m:\n\u001b[1;32m     51\u001b[0m         data \u001b[39m=\u001b[39m \u001b[39mself\u001b[39m\u001b[39m.\u001b[39mdataset[possibly_batched_index]\n",
      "File \u001b[0;32m~/anaconda3/envs/torch2/lib/python3.9/site-packages/torch/utils/data/_utils/fetch.py:49\u001b[0m, in \u001b[0;36m<listcomp>\u001b[0;34m(.0)\u001b[0m\n\u001b[1;32m     47\u001b[0m \u001b[39mdef\u001b[39;00m \u001b[39mfetch\u001b[39m(\u001b[39mself\u001b[39m, possibly_batched_index):\n\u001b[1;32m     48\u001b[0m     \u001b[39mif\u001b[39;00m \u001b[39mself\u001b[39m\u001b[39m.\u001b[39mauto_collation:\n\u001b[0;32m---> 49\u001b[0m         data \u001b[39m=\u001b[39m [\u001b[39mself\u001b[39;49m\u001b[39m.\u001b[39;49mdataset[idx] \u001b[39mfor\u001b[39;00m idx \u001b[39min\u001b[39;00m possibly_batched_index]\n\u001b[1;32m     50\u001b[0m     \u001b[39melse\u001b[39;00m:\n\u001b[1;32m     51\u001b[0m         data \u001b[39m=\u001b[39m \u001b[39mself\u001b[39m\u001b[39m.\u001b[39mdataset[possibly_batched_index]\n",
      "File \u001b[0;32m~/cic/experiments/3_segmentation/utils/dataset.py:119\u001b[0m, in \u001b[0;36mZurichPairedDataset.__getitem__\u001b[0;34m(self, index)\u001b[0m\n\u001b[1;32m    117\u001b[0m \u001b[39m# apply image transformation\u001b[39;00m\n\u001b[1;32m    118\u001b[0m A \u001b[39m=\u001b[39m \u001b[39mself\u001b[39m\u001b[39m.\u001b[39mtransform(A_img)\n\u001b[0;32m--> 119\u001b[0m B \u001b[39m=\u001b[39m \u001b[39mself\u001b[39;49m\u001b[39m.\u001b[39;49mtransform(B_img)\n\u001b[1;32m    121\u001b[0m \u001b[39m# print(A.shape,B.shape)\u001b[39;00m\n\u001b[1;32m    123\u001b[0m \u001b[39mreturn\u001b[39;00m A, B\n",
      "File \u001b[0;32m~/anaconda3/envs/torch2/lib/python3.9/site-packages/torchvision/transforms/transforms.py:95\u001b[0m, in \u001b[0;36mCompose.__call__\u001b[0;34m(self, img)\u001b[0m\n\u001b[1;32m     93\u001b[0m \u001b[39mdef\u001b[39;00m \u001b[39m__call__\u001b[39m(\u001b[39mself\u001b[39m, img):\n\u001b[1;32m     94\u001b[0m     \u001b[39mfor\u001b[39;00m t \u001b[39min\u001b[39;00m \u001b[39mself\u001b[39m\u001b[39m.\u001b[39mtransforms:\n\u001b[0;32m---> 95\u001b[0m         img \u001b[39m=\u001b[39m t(img)\n\u001b[1;32m     96\u001b[0m     \u001b[39mreturn\u001b[39;00m img\n",
      "File \u001b[0;32m~/anaconda3/envs/torch2/lib/python3.9/site-packages/torch/nn/modules/module.py:1110\u001b[0m, in \u001b[0;36mModule._call_impl\u001b[0;34m(self, *input, **kwargs)\u001b[0m\n\u001b[1;32m   1106\u001b[0m \u001b[39m# If we don't have any hooks, we want to skip the rest of the logic in\u001b[39;00m\n\u001b[1;32m   1107\u001b[0m \u001b[39m# this function, and just call forward.\u001b[39;00m\n\u001b[1;32m   1108\u001b[0m \u001b[39mif\u001b[39;00m \u001b[39mnot\u001b[39;00m (\u001b[39mself\u001b[39m\u001b[39m.\u001b[39m_backward_hooks \u001b[39mor\u001b[39;00m \u001b[39mself\u001b[39m\u001b[39m.\u001b[39m_forward_hooks \u001b[39mor\u001b[39;00m \u001b[39mself\u001b[39m\u001b[39m.\u001b[39m_forward_pre_hooks \u001b[39mor\u001b[39;00m _global_backward_hooks\n\u001b[1;32m   1109\u001b[0m         \u001b[39mor\u001b[39;00m _global_forward_hooks \u001b[39mor\u001b[39;00m _global_forward_pre_hooks):\n\u001b[0;32m-> 1110\u001b[0m     \u001b[39mreturn\u001b[39;00m forward_call(\u001b[39m*\u001b[39;49m\u001b[39minput\u001b[39;49m, \u001b[39m*\u001b[39;49m\u001b[39m*\u001b[39;49mkwargs)\n\u001b[1;32m   1111\u001b[0m \u001b[39m# Do not call functions when jit is used\u001b[39;00m\n\u001b[1;32m   1112\u001b[0m full_backward_hooks, non_full_backward_hooks \u001b[39m=\u001b[39m [], []\n",
      "File \u001b[0;32m~/anaconda3/envs/torch2/lib/python3.9/site-packages/torchvision/transforms/transforms.py:953\u001b[0m, in \u001b[0;36mRandomResizedCrop.forward\u001b[0;34m(self, img)\u001b[0m\n\u001b[1;32m    945\u001b[0m \u001b[39m\"\"\"\u001b[39;00m\n\u001b[1;32m    946\u001b[0m \u001b[39mArgs:\u001b[39;00m\n\u001b[1;32m    947\u001b[0m \u001b[39m    img (PIL Image or Tensor): Image to be cropped and resized.\u001b[39;00m\n\u001b[0;32m   (...)\u001b[0m\n\u001b[1;32m    950\u001b[0m \u001b[39m    PIL Image or Tensor: Randomly cropped and resized image.\u001b[39;00m\n\u001b[1;32m    951\u001b[0m \u001b[39m\"\"\"\u001b[39;00m\n\u001b[1;32m    952\u001b[0m i, j, h, w \u001b[39m=\u001b[39m \u001b[39mself\u001b[39m\u001b[39m.\u001b[39mget_params(img, \u001b[39mself\u001b[39m\u001b[39m.\u001b[39mscale, \u001b[39mself\u001b[39m\u001b[39m.\u001b[39mratio)\n\u001b[0;32m--> 953\u001b[0m \u001b[39mreturn\u001b[39;00m F\u001b[39m.\u001b[39;49mresized_crop(img, i, j, h, w, \u001b[39mself\u001b[39;49m\u001b[39m.\u001b[39;49msize, \u001b[39mself\u001b[39;49m\u001b[39m.\u001b[39;49minterpolation)\n",
      "File \u001b[0;32m~/anaconda3/envs/torch2/lib/python3.9/site-packages/torchvision/transforms/functional.py:589\u001b[0m, in \u001b[0;36mresized_crop\u001b[0;34m(img, top, left, height, width, size, interpolation)\u001b[0m\n\u001b[1;32m    587\u001b[0m \u001b[39mif\u001b[39;00m \u001b[39mnot\u001b[39;00m torch\u001b[39m.\u001b[39mjit\u001b[39m.\u001b[39mis_scripting() \u001b[39mand\u001b[39;00m \u001b[39mnot\u001b[39;00m torch\u001b[39m.\u001b[39mjit\u001b[39m.\u001b[39mis_tracing():\n\u001b[1;32m    588\u001b[0m     _log_api_usage_once(resized_crop)\n\u001b[0;32m--> 589\u001b[0m img \u001b[39m=\u001b[39m crop(img, top, left, height, width)\n\u001b[1;32m    590\u001b[0m img \u001b[39m=\u001b[39m resize(img, size, interpolation)\n\u001b[1;32m    591\u001b[0m \u001b[39mreturn\u001b[39;00m img\n",
      "File \u001b[0;32m~/anaconda3/envs/torch2/lib/python3.9/site-packages/torchvision/transforms/functional.py:510\u001b[0m, in \u001b[0;36mcrop\u001b[0;34m(img, top, left, height, width)\u001b[0m\n\u001b[1;32m    508\u001b[0m     _log_api_usage_once(crop)\n\u001b[1;32m    509\u001b[0m \u001b[39mif\u001b[39;00m \u001b[39mnot\u001b[39;00m \u001b[39misinstance\u001b[39m(img, torch\u001b[39m.\u001b[39mTensor):\n\u001b[0;32m--> 510\u001b[0m     \u001b[39mreturn\u001b[39;00m F_pil\u001b[39m.\u001b[39;49mcrop(img, top, left, height, width)\n\u001b[1;32m    512\u001b[0m \u001b[39mreturn\u001b[39;00m F_t\u001b[39m.\u001b[39mcrop(img, top, left, height, width)\n",
      "File \u001b[0;32m~/anaconda3/envs/torch2/lib/python3.9/site-packages/torchvision/transforms/functional_pil.py:221\u001b[0m, in \u001b[0;36mcrop\u001b[0;34m(img, top, left, height, width)\u001b[0m\n\u001b[1;32m    218\u001b[0m \u001b[39mif\u001b[39;00m \u001b[39mnot\u001b[39;00m _is_pil_image(img):\n\u001b[1;32m    219\u001b[0m     \u001b[39mraise\u001b[39;00m \u001b[39mTypeError\u001b[39;00m(\u001b[39mf\u001b[39m\u001b[39m\"\u001b[39m\u001b[39mimg should be PIL Image. Got \u001b[39m\u001b[39m{\u001b[39;00m\u001b[39mtype\u001b[39m(img)\u001b[39m}\u001b[39;00m\u001b[39m\"\u001b[39m)\n\u001b[0;32m--> 221\u001b[0m \u001b[39mreturn\u001b[39;00m img\u001b[39m.\u001b[39;49mcrop((left, top, left \u001b[39m+\u001b[39;49m width, top \u001b[39m+\u001b[39;49m height))\n",
      "File \u001b[0;32m~/anaconda3/envs/torch2/lib/python3.9/site-packages/PIL/Image.py:1147\u001b[0m, in \u001b[0;36mImage.crop\u001b[0;34m(self, box)\u001b[0m\n\u001b[1;32m   1144\u001b[0m     \u001b[39mreturn\u001b[39;00m \u001b[39mself\u001b[39m\u001b[39m.\u001b[39mcopy()\n\u001b[1;32m   1146\u001b[0m \u001b[39mself\u001b[39m\u001b[39m.\u001b[39mload()\n\u001b[0;32m-> 1147\u001b[0m \u001b[39mreturn\u001b[39;00m \u001b[39mself\u001b[39m\u001b[39m.\u001b[39m_new(\u001b[39mself\u001b[39;49m\u001b[39m.\u001b[39;49m_crop(\u001b[39mself\u001b[39;49m\u001b[39m.\u001b[39;49mim, box))\n",
      "File \u001b[0;32m~/anaconda3/envs/torch2/lib/python3.9/site-packages/PIL/Image.py:1167\u001b[0m, in \u001b[0;36mImage._crop\u001b[0;34m(self, im, box)\u001b[0m\n\u001b[1;32m   1163\u001b[0m absolute_values \u001b[39m=\u001b[39m (\u001b[39mabs\u001b[39m(x1 \u001b[39m-\u001b[39m x0), \u001b[39mabs\u001b[39m(y1 \u001b[39m-\u001b[39m y0))\n\u001b[1;32m   1165\u001b[0m _decompression_bomb_check(absolute_values)\n\u001b[0;32m-> 1167\u001b[0m \u001b[39mreturn\u001b[39;00m im\u001b[39m.\u001b[39;49mcrop((x0, y0, x1, y1))\n",
      "\u001b[0;31mKeyboardInterrupt\u001b[0m: "
     ]
    }
   ],
   "source": [
    "dataset = ZurichPairedDataset(transforms=transforms_train)\n",
    "dataloader = torch.utils.data.DataLoader(dataset, batch_size=30, shuffle=True, num_workers=0)\n",
    "i=0\n",
    "for data in dataloader:\n",
    "    print(data[0].shape,data[1].shape,i)\n",
    "    i+=1"
   ]
  },
  {
   "cell_type": "code",
   "execution_count": 4,
   "metadata": {},
   "outputs": [],
   "source": [
    "import torch\n",
    "import torch.nn as nn\n",
    "class smallCNN(nn.Module):\n",
    "    def __init__(self):\n",
    "        super(smallCNN, self).__init__()\n",
    "        self.conv1 = nn.Conv2d(3, 64, kernel_size=3, stride=1, padding=1)\n",
    "        self.avgpool = nn.AdaptiveAvgPool2d((1, 1))\n",
    "        self.fc = nn.Linear(64, 10)\n",
    "    \n",
    "    def forward(self, x):\n",
    "        x = self.conv1(x)\n",
    "        x = self.avgpool(x)\n",
    "        x = torch.flatten(x, 1)\n",
    "        x = self.fc(x)\n",
    "        return x"
   ]
  },
  {
   "cell_type": "code",
   "execution_count": 5,
   "metadata": {},
   "outputs": [],
   "source": [
    "gt = torch.tensor([1,2,3,4,5,6,7,8,9,0])\n",
    "gt2 = torch.tensor([2,3,4,5,6,7,8,9,0,1])\n",
    "inputs = torch.randn(10,3,32,32)\n",
    "model = smallCNN()\n",
    "outputs = model(inputs)\n",
    "criterion = nn.CrossEntropyLoss()\n",
    "optimizer = torch.optim.SGD(model.parameters(), lr=0.1, momentum=0.9)"
   ]
  },
  {
   "cell_type": "code",
   "execution_count": 6,
   "metadata": {},
   "outputs": [
    {
     "name": "stdout",
     "output_type": "stream",
     "text": [
      "tensor([-0.1042, -0.0691, -0.0950,  0.0825, -0.0076, -0.0628,  0.0086, -0.0613,\n",
      "        -0.0167, -0.0244, -0.0075,  0.0399, -0.0799, -0.1222,  0.0761,  0.0177,\n",
      "         0.0131,  0.0420, -0.0280, -0.0588, -0.0703, -0.0537,  0.0735,  0.0623,\n",
      "        -0.0940, -0.0716,  0.0138,  0.0574, -0.0980, -0.0633,  0.0459,  0.0578,\n",
      "        -0.0749,  0.0648,  0.1236,  0.1062,  0.0003, -0.0676,  0.0973,  0.0817,\n",
      "        -0.0644,  0.0347,  0.0597,  0.1200,  0.0471,  0.0654, -0.0061,  0.0732,\n",
      "        -0.0648, -0.0756,  0.0240,  0.0585,  0.0521, -0.0581, -0.0688, -0.0314,\n",
      "        -0.0391,  0.0732,  0.1006,  0.0754, -0.0723,  0.0050, -0.0099,  0.0095],\n",
      "       grad_fn=<SelectBackward0>)\n",
      "tensor([-0.1042, -0.0695, -0.0948,  0.0824, -0.0077, -0.0625,  0.0094, -0.0611,\n",
      "        -0.0160, -0.0241, -0.0078,  0.0401, -0.0796, -0.1229,  0.0761,  0.0177,\n",
      "         0.0139,  0.0414, -0.0280, -0.0594, -0.0701, -0.0529,  0.0739,  0.0623,\n",
      "        -0.0939, -0.0718,  0.0142,  0.0580, -0.0975, -0.0638,  0.0465,  0.0583,\n",
      "        -0.0754,  0.0646,  0.1234,  0.1068,  0.0003, -0.0676,  0.0972,  0.0814,\n",
      "        -0.0642,  0.0350,  0.0596,  0.1201,  0.0470,  0.0656, -0.0058,  0.0731,\n",
      "        -0.0646, -0.0762,  0.0245,  0.0583,  0.0522, -0.0578, -0.0692, -0.0312,\n",
      "        -0.0396,  0.0731,  0.1002,  0.0745, -0.0731,  0.0057, -0.0101,  0.0097],\n",
      "       grad_fn=<SelectBackward0>)\n"
     ]
    },
    {
     "ename": "RuntimeError",
     "evalue": "Trying to backward through the graph a second time (or directly access saved tensors after they have already been freed). Saved intermediate values of the graph are freed when you call .backward() or autograd.grad(). Specify retain_graph=True if you need to backward through the graph a second time or if you need to access saved tensors after calling backward.",
     "output_type": "error",
     "traceback": [
      "\u001b[0;31m---------------------------------------------------------------------------\u001b[0m",
      "\u001b[0;31mRuntimeError\u001b[0m                              Traceback (most recent call last)",
      "\u001b[1;32m/mnt/netdisk/luord/3_segmentation/utils/test.ipynb Cell 11\u001b[0m in \u001b[0;36m<cell line: 7>\u001b[0;34m()\u001b[0m\n\u001b[1;32m      <a href='vscode-notebook-cell://ssh-remote%2B59.108.48.24/mnt/netdisk/luord/3_segmentation/utils/test.ipynb#X13sdnNjb2RlLXJlbW90ZQ%3D%3D?line=4'>5</a>\u001b[0m \u001b[39mprint\u001b[39m(model\u001b[39m.\u001b[39mfc\u001b[39m.\u001b[39mweight[\u001b[39m0\u001b[39m])\n\u001b[1;32m      <a href='vscode-notebook-cell://ssh-remote%2B59.108.48.24/mnt/netdisk/luord/3_segmentation/utils/test.ipynb#X13sdnNjb2RlLXJlbW90ZQ%3D%3D?line=5'>6</a>\u001b[0m loss \u001b[39m+\u001b[39m\u001b[39m=\u001b[39m criterion(outputs, gt2)\n\u001b[0;32m----> <a href='vscode-notebook-cell://ssh-remote%2B59.108.48.24/mnt/netdisk/luord/3_segmentation/utils/test.ipynb#X13sdnNjb2RlLXJlbW90ZQ%3D%3D?line=6'>7</a>\u001b[0m loss\u001b[39m.\u001b[39;49mbackward()\n\u001b[1;32m      <a href='vscode-notebook-cell://ssh-remote%2B59.108.48.24/mnt/netdisk/luord/3_segmentation/utils/test.ipynb#X13sdnNjb2RlLXJlbW90ZQ%3D%3D?line=7'>8</a>\u001b[0m optimizer\u001b[39m.\u001b[39mstep()\n\u001b[1;32m      <a href='vscode-notebook-cell://ssh-remote%2B59.108.48.24/mnt/netdisk/luord/3_segmentation/utils/test.ipynb#X13sdnNjb2RlLXJlbW90ZQ%3D%3D?line=8'>9</a>\u001b[0m \u001b[39mprint\u001b[39m(model\u001b[39m.\u001b[39mfc\u001b[39m.\u001b[39mweight[\u001b[39m0\u001b[39m])\n",
      "File \u001b[0;32m~/anaconda3/envs/torch2/lib/python3.9/site-packages/torch/_tensor.py:363\u001b[0m, in \u001b[0;36mTensor.backward\u001b[0;34m(self, gradient, retain_graph, create_graph, inputs)\u001b[0m\n\u001b[1;32m    354\u001b[0m \u001b[39mif\u001b[39;00m has_torch_function_unary(\u001b[39mself\u001b[39m):\n\u001b[1;32m    355\u001b[0m     \u001b[39mreturn\u001b[39;00m handle_torch_function(\n\u001b[1;32m    356\u001b[0m         Tensor\u001b[39m.\u001b[39mbackward,\n\u001b[1;32m    357\u001b[0m         (\u001b[39mself\u001b[39m,),\n\u001b[0;32m   (...)\u001b[0m\n\u001b[1;32m    361\u001b[0m         create_graph\u001b[39m=\u001b[39mcreate_graph,\n\u001b[1;32m    362\u001b[0m         inputs\u001b[39m=\u001b[39minputs)\n\u001b[0;32m--> 363\u001b[0m torch\u001b[39m.\u001b[39;49mautograd\u001b[39m.\u001b[39;49mbackward(\u001b[39mself\u001b[39;49m, gradient, retain_graph, create_graph, inputs\u001b[39m=\u001b[39;49minputs)\n",
      "File \u001b[0;32m~/anaconda3/envs/torch2/lib/python3.9/site-packages/torch/autograd/__init__.py:173\u001b[0m, in \u001b[0;36mbackward\u001b[0;34m(tensors, grad_tensors, retain_graph, create_graph, grad_variables, inputs)\u001b[0m\n\u001b[1;32m    168\u001b[0m     retain_graph \u001b[39m=\u001b[39m create_graph\n\u001b[1;32m    170\u001b[0m \u001b[39m# The reason we repeat same the comment below is that\u001b[39;00m\n\u001b[1;32m    171\u001b[0m \u001b[39m# some Python versions print out the first line of a multi-line function\u001b[39;00m\n\u001b[1;32m    172\u001b[0m \u001b[39m# calls in the traceback and some print out the last line\u001b[39;00m\n\u001b[0;32m--> 173\u001b[0m Variable\u001b[39m.\u001b[39;49m_execution_engine\u001b[39m.\u001b[39;49mrun_backward(  \u001b[39m# Calls into the C++ engine to run the backward pass\u001b[39;49;00m\n\u001b[1;32m    174\u001b[0m     tensors, grad_tensors_, retain_graph, create_graph, inputs,\n\u001b[1;32m    175\u001b[0m     allow_unreachable\u001b[39m=\u001b[39;49m\u001b[39mTrue\u001b[39;49;00m, accumulate_grad\u001b[39m=\u001b[39;49m\u001b[39mTrue\u001b[39;49;00m)\n",
      "\u001b[0;31mRuntimeError\u001b[0m: Trying to backward through the graph a second time (or directly access saved tensors after they have already been freed). Saved intermediate values of the graph are freed when you call .backward() or autograd.grad(). Specify retain_graph=True if you need to backward through the graph a second time or if you need to access saved tensors after calling backward."
     ]
    }
   ],
   "source": [
    "loss = criterion(outputs, gt)\n",
    "print(model.fc.weight[0])\n",
    "loss.backward()\n",
    "optimizer.step()\n",
    "print(model.fc.weight[0])\n",
    "loss += criterion(outputs, gt2)\n",
    "loss.backward()\n",
    "optimizer.step()\n",
    "print(model.fc.weight[0])"
   ]
  },
  {
   "cell_type": "code",
   "execution_count": null,
   "metadata": {},
   "outputs": [
    {
     "name": "stdout",
     "output_type": "stream",
     "text": [
      "None\n"
     ]
    }
   ],
   "source": [
    "loss = 0.\n",
    "loss.backward()"
   ]
  }
 ],
 "metadata": {
  "kernelspec": {
   "display_name": "Python 3.9.12 ('torch2': conda)",
   "language": "python",
   "name": "python3"
  },
  "language_info": {
   "codemirror_mode": {
    "name": "ipython",
    "version": 3
   },
   "file_extension": ".py",
   "mimetype": "text/x-python",
   "name": "python",
   "nbconvert_exporter": "python",
   "pygments_lexer": "ipython3",
   "version": "3.9.12"
  },
  "orig_nbformat": 4,
  "vscode": {
   "interpreter": {
    "hash": "a1151b779051ac9b916c3f23eab1d82f93c0a93d8e5f089899a37a69c27ee52d"
   }
  }
 },
 "nbformat": 4,
 "nbformat_minor": 2
}
